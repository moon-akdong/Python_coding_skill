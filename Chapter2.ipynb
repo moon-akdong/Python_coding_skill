{
 "cells": [
  {
   "cell_type": "markdown",
   "metadata": {},
   "source": [
    "# 시퀀스를 슬라이싱 하는 방법을 익혀라 \n"
   ]
  },
  {
   "cell_type": "code",
   "execution_count": 14,
   "metadata": {},
   "outputs": [
    {
     "name": "stdout",
     "output_type": "stream",
     "text": [
      "[0, 1, 2, 3, 4, 5, 6, 7, 8, 9, 10]\n",
      "--------------------\n",
      "[0, 1, 2, 3, 4, 5, 6, 7, 8, 9]\n",
      "--------------------\n",
      "[0, 1, 2, 3, 4, 5, 6, 7, 8, 9, 10]\n"
     ]
    },
    {
     "ename": "IndexError",
     "evalue": "list index out of range",
     "output_type": "error",
     "traceback": [
      "\u001b[0;31m---------------------------------------------------------------------------\u001b[0m",
      "\u001b[0;31mIndexError\u001b[0m                                Traceback (most recent call last)",
      "Input \u001b[0;32mIn [14]\u001b[0m, in \u001b[0;36m<cell line: 12>\u001b[0;34m()\u001b[0m\n\u001b[1;32m     10\u001b[0m \u001b[38;5;66;03m# 인덱스와는 달리 슬라이싱은 범위가 넘어가더라도 오류가 발생하지 않는다.\u001b[39;00m\n\u001b[1;32m     11\u001b[0m \u001b[38;5;28mprint\u001b[39m(a[:\u001b[38;5;241m20\u001b[39m])\n\u001b[0;32m---> 12\u001b[0m \u001b[38;5;28mprint\u001b[39m(\u001b[43ma\u001b[49m\u001b[43m[\u001b[49m\u001b[38;5;241;43m20\u001b[39;49m\u001b[43m]\u001b[49m)\n",
      "\u001b[0;31mIndexError\u001b[0m: list index out of range"
     ]
    }
   ],
   "source": [
    "a = [0,1,2,3,4,5,6,7,8,9,10]\n",
    "\n",
    "# 쓸데없이 a[0:11] 처럼 시작과 끝 인덱스는 주지 마라. 가독성도 떨어지고, 없어보인다. \n",
    "print(a[:11]) # 이렇게\n",
    "\n",
    "print(\"-\"*20) \n",
    "print(a[:-1]) # 이런식으로 음수를 사용해도 된다. \n",
    "\n",
    "print(\"-\"*20) \n",
    "# 인덱스와는 달리 슬라이싱은 범위가 넘어가더라도 오류가 발생하지 않는다.\n",
    "print(a[:20])\n",
    "print(a[20])\n",
    "# 좋다고 생각할 수 있지만, 실 사용에서는 좋은 방법이 아니다. 아무것도 넣지 않던가 음수를 사용해라 "
   ]
  },
  {
   "cell_type": "code",
   "execution_count": 15,
   "metadata": {},
   "outputs": [
    {
     "name": "stdout",
     "output_type": "stream",
     "text": [
      "[0, 91, 2, 3, 4, 5, 6, 7, 8, 9, 10]\n",
      "[0, 91, 2, 3, 4, 5, 6, 7, 8, 9, 10] 대입 전 len = 11\n",
      "[0, 91, 70, 80, 90, 100, 9, 10] 대입 후 len = 8\n"
     ]
    }
   ],
   "source": [
    "# 슬라이싱으로 대입을 할 수 있는데, \n",
    "a[1:2] = [91]\n",
    "print(a) \n",
    "\n",
    "# 개수를 굳이 똑같이 안해도 된다.후\n",
    "print(a,f\"대입 전 len = {len(a)}\")\n",
    "a[2:9] = [70,80,90,100]\n",
    "print(a,f'대입 후 len = {len(a)}')"
   ]
  },
  {
   "cell_type": "code",
   "execution_count": 16,
   "metadata": {},
   "outputs": [
    {
     "name": "stdout",
     "output_type": "stream",
     "text": [
      "[0, 91, 70, 80, 90, 100, 9, 10]\n",
      "[80, 99, 100, 9, 10]\n"
     ]
    },
    {
     "ename": "AssertionError",
     "evalue": "",
     "output_type": "error",
     "traceback": [
      "\u001b[0;31m---------------------------------------------------------------------------\u001b[0m",
      "\u001b[0;31mAssertionError\u001b[0m                            Traceback (most recent call last)",
      "Input \u001b[0;32mIn [16]\u001b[0m, in \u001b[0;36m<cell line: 13>\u001b[0;34m()\u001b[0m\n\u001b[1;32m     10\u001b[0m \u001b[38;5;28;01massert\u001b[39;00m b \u001b[38;5;241m==\u001b[39m a \u001b[38;5;129;01mand\u001b[39;00m b \u001b[38;5;129;01mis\u001b[39;00m \u001b[38;5;129;01mnot\u001b[39;00m a \u001b[38;5;66;03m# 주소가 다른다. \u001b[39;00m\n\u001b[1;32m     12\u001b[0m b \u001b[38;5;241m=\u001b[39m a \n\u001b[0;32m---> 13\u001b[0m \u001b[38;5;28;01massert\u001b[39;00m b\u001b[38;5;241m==\u001b[39ma \u001b[38;5;129;01mand\u001b[39;00m b \u001b[38;5;129;01mis\u001b[39;00m \u001b[38;5;129;01mnot\u001b[39;00m a\n",
      "\u001b[0;31mAssertionError\u001b[0m: "
     ]
    }
   ],
   "source": [
    "# 슬라이싱한 결과는 완전히 새로운 리스트이다. 따라서 값을 변경해도 바뀌지 않는다. \n",
    "b = a[3:]\n",
    "b[1] = 99\n",
    "\n",
    "print(a)\n",
    "print(b)\n",
    "\n",
    "# 단, 시작과 끝 인덱스를 모두 생략하면 슬라이스가 참조하는 리스트의 내용을 대입하는 리스트의 복사본으로 덮어쓴다.\n",
    "b = a[:]\n",
    "assert b == a and b is not a # 주소가 다른다. \n",
    "\n",
    "b = a \n",
    "assert b==a and b is not a # 주소가 같다. \n",
    "\n"
   ]
  },
  {
   "cell_type": "markdown",
   "metadata": {},
   "source": [
    "# 스트라이드와 슬라이스를 한 식에 함께 사용하지 마라. \n"
   ]
  },
  {
   "cell_type": "code",
   "execution_count": 18,
   "metadata": {},
   "outputs": [
    {
     "name": "stdout",
     "output_type": "stream",
     "text": [
      "--------------------\n",
      "b'esoognom'\n"
     ]
    }
   ],
   "source": [
    "x = ['red','orange','yellow','green','blue','purple']\n",
    "odds = x[::2]\n",
    "even = x[1::2] # 이렇게 사용하지 말라는 소리이다. \n",
    "\n",
    "print(\"-\"*20) \n",
    "# 스트라이드는 바이트 연산자 및 유니코드 문자열에서도 잘 작동한다. \n",
    "x = b'mongoose'\n",
    "y = x[::-1]\n",
    "print(y)"
   ]
  },
  {
   "cell_type": "code",
   "execution_count": 24,
   "metadata": {},
   "outputs": [
    {
     "name": "stdout",
     "output_type": "stream",
     "text": [
      "['red', 'yellow', 'blue', 'white'] ['yellow', 'blue']\n",
      "['red', 'orange', 'yellow', 'green', 'blue', 'purple', 'white', 'black']\n",
      "['brown', 'yellow', 'blue', 'white']\n"
     ]
    }
   ],
   "source": [
    "x = ['red','orange','yellow','green','blue','purple','white','black']\n",
    "y = x[::2]\n",
    "z = y[1:-1]\n",
    "\n",
    "print(y,z)\n",
    "\n",
    "y[0] = \"brown\"\n",
    "print(x)\n",
    "print(y)\n",
    "\n",
    "# 두 번의 얕은 복사(shallow copy)가 이루어진다. \n",
    "# 요소가 많다면 이러한 경우 메모리 오류가 발생할 수 있다. \n",
    "# 이 두 단계 연산에 필요한 시간과 메모리를 감당 할 수 없다면, itertools 내장 모듈의 islice 메서드를 고려 해 보자. \n",
    "# 이터레이터나 제너레이터를 다룰 때는 itertools를 사용하는 것이 좋다. Chapter4 "
   ]
  },
  {
   "cell_type": "markdown",
   "metadata": {},
   "source": [
    "# 슬라이싱 보다는 나머지를 모두 잡아내는 언패킹을 사용하라. \n",
    " - 언패킹의 안좋은점?을 보완하는 *별표 식 (starred expression)을 사용할 수 있다. \n",
    " "
   ]
  },
  {
   "cell_type": "code",
   "execution_count": 27,
   "metadata": {},
   "outputs": [
    {
     "ename": "ValueError",
     "evalue": "too many values to unpack (expected 2)",
     "output_type": "error",
     "traceback": [
      "\u001b[0;31m---------------------------------------------------------------------------\u001b[0m",
      "\u001b[0;31mValueError\u001b[0m                                Traceback (most recent call last)",
      "Input \u001b[0;32mIn [27]\u001b[0m, in \u001b[0;36m<cell line: 4>\u001b[0;34m()\u001b[0m\n\u001b[1;32m      1\u001b[0m car_ages \u001b[38;5;241m=\u001b[39m [\u001b[38;5;241m0\u001b[39m,\u001b[38;5;241m9\u001b[39m,\u001b[38;5;241m4\u001b[39m,\u001b[38;5;241m8\u001b[39m,\u001b[38;5;241m7\u001b[39m,\u001b[38;5;241m20\u001b[39m,\u001b[38;5;241m19\u001b[39m,\u001b[38;5;241m1\u001b[39m,\u001b[38;5;241m6\u001b[39m,\u001b[38;5;241m15\u001b[39m]\n\u001b[1;32m      2\u001b[0m car_ages_sort \u001b[38;5;241m=\u001b[39m \u001b[38;5;28msorted\u001b[39m(car_ages,reverse\u001b[38;5;241m=\u001b[39m\u001b[38;5;28;01mTrue\u001b[39;00m)\n\u001b[0;32m----> 4\u001b[0m oldest,second_oldest \u001b[38;5;241m=\u001b[39m car_ages\n",
      "\u001b[0;31mValueError\u001b[0m: too many values to unpack (expected 2)"
     ]
    }
   ],
   "source": [
    "car_ages = [0,9,4,8,7,20,19,1,6,15]\n",
    "car_ages_sort = sorted(car_ages,reverse=True)\n",
    "\n",
    "oldest,second_oldest = car_ages \n",
    "# 이런 식으로 언패킹을 하고자 하는 이터레이터의 요소 개수를 잘못 알아서 ValueError 가 발생한다. "
   ]
  },
  {
   "cell_type": "code",
   "execution_count": 30,
   "metadata": {},
   "outputs": [
    {
     "name": "stdout",
     "output_type": "stream",
     "text": [
      "20 19 [15, 9, 8, 7, 6, 4, 1, 0]\n",
      "20 19 [15, 9, 8, 7, 6, 4, 1, 0]\n",
      "20 0 [19, 15, 9, 8, 7, 6, 4, 1]\n"
     ]
    },
    {
     "ename": "SyntaxError",
     "evalue": "multiple starred expressions in assignment (4064875968.py, line 17)",
     "output_type": "error",
     "traceback": [
      "\u001b[0;36m  Input \u001b[0;32mIn [30]\u001b[0;36m\u001b[0m\n\u001b[0;31m    oldest,*others,*theothers = car_ages_sort\u001b[0m\n\u001b[0m    ^\u001b[0m\n\u001b[0;31mSyntaxError\u001b[0m\u001b[0;31m:\u001b[0m multiple starred expressions in assignment\n"
     ]
    }
   ],
   "source": [
    "# 슬라이싱으로도 해결이 가능하지만, 별표식을 사용하면 더 편하다. \n",
    "oldest = car_ages_sort[0]\n",
    "second_oldest = car_ages_sort[1]\n",
    "others = car_ages_sort[2:]\n",
    "print(oldest,second_oldest,others)\n",
    "\n",
    "# 별표식을 사용하면 가독성이 훨씬 좋아진다., 코드 줄도 줄어든다.\n",
    "oldest,second_oldest,*others = car_ages_sort\n",
    "print(oldest,second_oldest,others)\n",
    "\n",
    "# 이런식으로도 사용이 가능하다. 별표식을 사용하기 위해선 필수인 부분이 하나라도 존재 해야한다. \n",
    "# 그렇지 않으면, SyntaxError가 발생한다. \n",
    "oldest,*others,youngest = car_ages_sort\n",
    "print(oldest,youngest,others)\n",
    "\n",
    "# 또한 두개이상은 사용할 수 없다. \n",
    "oldest,*others,*theothers = car_ages_sort"
   ]
  },
  {
   "cell_type": "code",
   "execution_count": 31,
   "metadata": {},
   "outputs": [
    {
     "name": "stdout",
     "output_type": "stream",
     "text": [
      "1 2 []\n"
     ]
    }
   ],
   "source": [
    "# 별표 식은 항상 list 인스턴스가 된다. -> 언패킹하는 시퀀스에 남는 원소가 없어도 빈리스트를 반환한다. \n",
    "# 최소 몇개가 들어 있는지 알고 있다면 시퀀스를 처리할 때 유용하다. \n",
    "\n",
    "short_list = [1,2]\n",
    "\n",
    "f,s,*rest = short_list\n",
    "print(f,s,rest)"
   ]
  },
  {
   "cell_type": "code",
   "execution_count": null,
   "metadata": {},
   "outputs": [],
   "source": []
  }
 ],
 "metadata": {
  "kernelspec": {
   "display_name": "base",
   "language": "python",
   "name": "python3"
  },
  "language_info": {
   "codemirror_mode": {
    "name": "ipython",
    "version": 3
   },
   "file_extension": ".py",
   "mimetype": "text/x-python",
   "name": "python",
   "nbconvert_exporter": "python",
   "pygments_lexer": "ipython3",
   "version": "3.9.13"
  }
 },
 "nbformat": 4,
 "nbformat_minor": 2
}
