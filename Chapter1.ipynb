{
 "cells": [
  {
   "cell_type": "markdown",
   "metadata": {},
   "source": [
    "# Better Way5 복잡한 식을 쓰는 대신 도우미 함수를 작성하라.\n",
    "\n",
    "- 아무리 간단한 작업이라도, 객체지향언어 스럽게, 함수를 작성하여 만들어라. \n",
    "- 가독성이 올라가고, 나중에 유지보수에도 좋다. "
   ]
  },
  {
   "cell_type": "code",
   "execution_count": 17,
   "metadata": {},
   "outputs": [
    {
     "name": "stdout",
     "output_type": "stream",
     "text": [
      "{'빨강': ['5'], '파랑': ['0'], '초록': ['']}\n"
     ]
    }
   ],
   "source": [
    "from urllib.parse import parse_qs\n",
    "my_values = parse_qs(\"빨강=5&파랑=0&초록=\",keep_blank_values=True)\n",
    "\n",
    "print(repr(my_values))\n",
    "\n",
    "# 값이 비어 있을 때, 오류 보다는 0을 출력하도록 하는 코드 \n",
    "red = my_values.get(\"빨강\",[\"\"])[0] or 0\n",
    "green = my_values.get(\"초록\",[''])[0] or 0\n",
    "opacity = my_values.get(\"투명도\",[''])[0] or 0 \n",
    "\n",
    "print(red)\n",
    "print(green)\n",
    "print(opacity)\n",
    "\n",
    "# 위 코드들과 동일하지만 아래 코드가 조금 더 가독성이 좋다.  \n",
    "red_str = my_values.get(\"빨강\",[''])\n",
    "red = int(red_str[0]) if red_str[0] else 0 \n",
    "print(red)\n",
    "\n",
    "# 단순히 두번만 할 지라도, 도우미 함수를 작성해라. \n",
    "def get_first_int(values,key,default = 0):\n",
    "    found = values.get(key,[''])\n",
    "   \n",
    "    if found[0]:\n",
    "        return int(found[0])\n",
    "    return default\n",
    "\n",
    "green = get_first_int(my_values,'초록')\n",
    "print(green)\n",
    "\n",
    "red = get_first_int(my_values,'빨강')\n",
    "print(red)"
   ]
  },
  {
   "cell_type": "markdown",
   "metadata": {},
   "source": [
    "- 아무리 짧게 줄여 쓰는 것을 좋아한다고 하더라도, 코드를 줄여쓰는 것보다 가독성을 좋게 하는것이 더 가치가 있다. \n",
    "- 복잡한 식을 표현할 수 있는 파이썬의 함축적인 문법이 이런 지저분한 코드를 만들어 내지 않도록 하라. \n",
    "- 하나의 함수로 만들기 보단 가독성을 위해 많은 함수를 만들어라 라는 뜻으로 받아드려 진다. "
   ]
  },
  {
   "cell_type": "markdown",
   "metadata": {},
   "source": [
    "# 인덱스를 사용하는 대신 대입을 사용해 데이터를 언패킹하라"
   ]
  },
  {
   "cell_type": "code",
   "execution_count": 5,
   "metadata": {},
   "outputs": [
    {
     "name": "stdout",
     "output_type": "stream",
     "text": [
      "(('감자칩', 140), ('팝콥', 80), ('땅콩', 190))\n",
      "--------------\n",
      "('감자칩', 140)\n",
      "--------------\n",
      "과자 프레즐 100\n",
      "달콤 과자 쿠키 180\n",
      "--------------\n"
     ]
    }
   ],
   "source": [
    "snack_calories = {\n",
    "    \"감자칩\":140,\n",
    "    \"팝콥\" : 80,\n",
    "    \"땅콩\" : 190,\n",
    "}\n",
    "\n",
    "item = tuple(snack_calories.items())\n",
    "print(item)\n",
    "print(\"--------------\")\n",
    "\n",
    "# 언패킹 하는 방법 \n",
    "first,second,third = item\n",
    "print(first)\n",
    "print(\"--------------\")\n",
    "\n",
    "# 언패킹은 심지어 이렇게도 사용이 가능하다. \n",
    "favorite_snacks ={\n",
    "    '과자' : ('프레즐',100),\n",
    "    '달콤 과자' : ('쿠키',180),\n",
    "    '채소' : ('당근',20)\n",
    "}\n",
    "\n",
    "((type1,(name1,cals1)),\n",
    " (type2,(name2,cals2)),\n",
    " (type3,(name3,cals3))) = favorite_snacks.items()\n",
    "\n",
    "print(type1,name1,cals1)\n",
    "print(type2,name2,cals2)\n",
    "print(\"--------------\")"
   ]
  },
  {
   "cell_type": "markdown",
   "metadata": {},
   "source": [
    "- 튜플은 인덱스를 사용해 접근할 수 있다. \n",
    "- 튜플은 인덱스를 통해 새 값을 대입해서 튜플을 변경할 수는 없다. \n",
    "- 언패킹은 튜플 인덱스를 사용하는 것보다 시각적인 잡음이 적다. \n",
    "- 리스트,시퀀스, 이터러블 안에 여러 계층으로 이터러블이 들어간 계층에는 언패킹 구문을 사용할 수 있다. "
   ]
  },
  {
   "cell_type": "markdown",
   "metadata": {},
   "source": [
    "#  range 보다는 enumerate를 사용하라.\n",
    "- enumerator가 훨씬 가독성이 좋다. len, range라는 추가함수를 사용할 필요가 없다. \n",
    "- enumerator는 이터레이를 지연 계산 제너레이터로 감싼다. \n",
    "- enumerator(iterator,x) 여기서 x는 시작하는 숫자이다.\n",
    "\n"
   ]
  },
  {
   "cell_type": "code",
   "execution_count": 15,
   "metadata": {},
   "outputs": [
    {
     "name": "stdout",
     "output_type": "stream",
     "text": [
      "1 : 바닐라\n",
      "2 : 초콜릿\n",
      "3 : 치킨\n",
      "4 : 딸기\n",
      "(0, '바닐라')\n",
      "(1, '초콜릿')\n"
     ]
    }
   ],
   "source": [
    "flavor_list = ['바닐라','초콜릿','치킨','딸기']\n",
    "# 선호도 출력 \n",
    "for i in range(len(flavor_list)):\n",
    "    flavor = flavor_list[i]\n",
    "    print(f\"{i+1} : {flavor}\")\n",
    "\n",
    "it = enumerate(flavor_list)\n",
    "print(next(it))\n",
    "print(next(it))\n",
    "\n"
   ]
  },
  {
   "cell_type": "markdown",
   "metadata": {},
   "source": [
    "# 여러 이터레이션에 대해 나란히 루프를 수행하려면 zip을 사용해라 \n"
   ]
  },
  {
   "cell_type": "code",
   "execution_count": 28,
   "metadata": {},
   "outputs": [
    {
     "name": "stdout",
     "output_type": "stream",
     "text": [
      "name : jaeyun, count : 6\n",
      "name : gungsu2, count : 7\n",
      "name : hugak, count : 5\n",
      "name : min, count : 3\n",
      "7 gungsu2\n",
      "7 gungsu2\n"
     ]
    }
   ],
   "source": [
    "names = [\"jaeyun\",\"gungsu2\",'hugak',\"min\"]\n",
    "counts = [len(n) for n in names]\n",
    "# 아래보다 간단하다. \n",
    "longest_name = \"\"\n",
    "max_counts = 0 \n",
    "for n,c in zip(names,counts):\n",
    "    if c > max_counts:\n",
    "        max_counts = c\n",
    "        longest_name = n\n",
    "    print(f\"name : {n}, count : {c}\")\n",
    "\n",
    "print(max_counts,longest_name)\n",
    "\n",
    "longest_name =\"\"\n",
    "max_counts = 0\n",
    "for i,n in enumerate(names):\n",
    "    count = counts[i]\n",
    "    if count > max_counts:\n",
    "        longest_name = n \n",
    "        max_counts = count\n",
    "print(max_counts,longest_name)"
   ]
  },
  {
   "cell_type": "markdown",
   "metadata": {},
   "source": [
    "# 대입식을 사용해 반복을 피하라. / 왈러스 연산자. \n",
    "- 파이썬 3.8 이상 부터 사용가능 "
   ]
  },
  {
   "cell_type": "code",
   "execution_count": 30,
   "metadata": {},
   "outputs": [
    {
     "name": "stdout",
     "output_type": "stream",
     "text": [
      "have 5\n",
      "Here's the lemonade\n",
      "have 4\n",
      "Here's the lemonade\n"
     ]
    }
   ],
   "source": [
    "fresh_fuit = {\n",
    "    '사과':10,\n",
    "    '바나나':8,\n",
    "    '레몬':5,\n",
    "}\n",
    "\n",
    "def make_lemonade(count):\n",
    "    print(f\"have {count}\")\n",
    "    fresh_fuit[\"레몬\"] -= 1 \n",
    "    print(\"Here's the lemonade\")\n",
    "\n",
    "def out_of_stock():\n",
    "    print(\"재료 소진\")\n",
    "\n",
    "# 왈러스를 사용하지 않으면, 불필요하게 변수를 두번 사용해야한다. \n",
    "count = fresh_fuit.get('레몬',0)\n",
    "if count:\n",
    "    make_lemonade(count)\n",
    "else:\n",
    "    out_of_stock()\n",
    "\n",
    "# 하지만 왈러스를 사용하면,더 간단하다.\n",
    "if count:=fresh_fuit.get('레몬',0):\n",
    "    make_lemonade(count)\n",
    "else:\n",
    "    out_of_stock()\n"
   ]
  }
 ],
 "metadata": {
  "kernelspec": {
   "display_name": "base",
   "language": "python",
   "name": "python3"
  },
  "language_info": {
   "codemirror_mode": {
    "name": "ipython",
    "version": 3
   },
   "file_extension": ".py",
   "mimetype": "text/x-python",
   "name": "python",
   "nbconvert_exporter": "python",
   "pygments_lexer": "ipython3",
   "version": "3.9.13"
  }
 },
 "nbformat": 4,
 "nbformat_minor": 2
}
