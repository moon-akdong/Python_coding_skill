{
 "cells": [
  {
   "cell_type": "markdown",
   "metadata": {},
   "source": [
    "# 제너레이터"
   ]
  },
  {
   "cell_type": "code",
   "execution_count": 26,
   "metadata": {},
   "outputs": [
    {
     "name": "stdout",
     "output_type": "stream",
     "text": [
      "[0, 8, 18, 23, 28, 33, 39]\n",
      "0\n",
      "8\n",
      "[0, 8, 18, 23, 28, 33, 39]\n"
     ]
    }
   ],
   "source": [
    "# 일반적인 for문 \n",
    "def index_words(text):\n",
    "    result =[]\n",
    "    if text:\n",
    "        result.append(0)\n",
    "    for ind,val in enumerate(text):\n",
    "        if val == \" \":\n",
    "            result.append(ind+1)\n",
    "    \n",
    "    return result \n",
    "\n",
    "address = \"컴퓨터(영어: Computer, 문화어: 콤퓨터, 순화어: 전산기)는 진공관\"\n",
    "result = index_words(address)\n",
    "print(result[:10])\n",
    "\n",
    "# 위 일반적인 for문은 핵심을 알아보기 어려움 - 가독성이 떨어짐 \n",
    "# index +1의 중요성을 희석해 버림 \n",
    "# 제너레이터 방법\n",
    "def index_words_iter(text):\n",
    "    if text:\n",
    "        yield 0 \n",
    "    for ind,val in enumerate(text):\n",
    "        if val == \" \":\n",
    "            yield ind+1\n",
    "\n",
    "# 가독성이 늘어 났다 -> 반환하는 리스트와 상호작용하는 코드가 사라짐 \n",
    "# 이 함수가 호출되면 제너레이터 함수가 실제로 실행되지 않고 이터레이터를 반환한다. \n",
    "# 이터레이터가 next내장 함수를 호출할 때마다 이터레이터는 제너레이터 함수를 다음 yield까지 진행 \n",
    "# 제너레이터가 yield에 전강하는 값은 이터레이터에 의해 호출하는 쪽에 반환한다.!!!! \n",
    "            \n",
    "it = index_words_iter(address)\n",
    "print(next(it))\n",
    "print(next(it))\n",
    "\n",
    "# 제너레이터의 출력이 이터레이터를 반환하기 때문에 손쉽게 리스트로 바꾸어 확인이 가능하다. \n",
    "result = list(index_words_iter(address))\n",
    "print(result[:10])"
   ]
  },
  {
   "cell_type": "markdown",
   "metadata": {},
   "source": [
    "- 또 하나의 차이점은 for문의 index_words는 모든 결과를 저장한다. \n",
    "- 제너레이터 버전으로 만들면 사용하는 메모리 크기를 어느정도 제한 가능하다. -> 입력 길이가 아무리 길어도 제일 긴 줄 정도\n"
   ]
  },
  {
   "cell_type": "code",
   "execution_count": 27,
   "metadata": {},
   "outputs": [
    {
     "name": "stdout",
     "output_type": "stream",
     "text": [
      "[0, 8, 18, 23, 28, 38]\n"
     ]
    }
   ],
   "source": [
    "import itertools\n",
    "def index_file(handle):\n",
    "    offset = 0\n",
    "    for line in handle:\n",
    "        if line:\n",
    "            yield offset\n",
    "        for letter in line:\n",
    "            offset +=1\n",
    "            if letter == \" \":\n",
    "                yield offset\n",
    "\n",
    "# 이 함수의 작업 메모리는 입력 중 가장 긴 줄의 길이로 제한 된다. \n",
    "# 제너레이터를 정의할 때 한 가지 주의함 점이 있다.\n",
    "#제너레이터가 반환하는 이터레이터에 상태가 있기에 호출하는 쪽에서 재사용이 불가능 하다\n",
    "with open(\"address.txt\",\"r\",encoding=\"utf-8\") as f:\n",
    "    it = index_file(f)\n",
    "    results = itertools.islice(it,0,10)\n",
    "    print(list(results))\n"
   ]
  },
  {
   "cell_type": "markdown",
   "metadata": {},
   "source": [
    "# 인자에 대해 이터레션할 때는 방어적이 돼라.\n",
    "- 객체가 원소로 들어가 있는 리스트를 함수가 파라미터로 받았을 때, 이 리스트를 여러번 이터레이션 하는 것이 중요할 때가 종종 있다.\n"
   ]
  },
  {
   "cell_type": "code",
   "execution_count": 28,
   "metadata": {},
   "outputs": [
    {
     "name": "stdout",
     "output_type": "stream",
     "text": [
      "[11.538461538461538, 26.923076923076923, 61.53846153846154]\n"
     ]
    }
   ],
   "source": [
    "def normalize(numbers):\n",
    "    total = sum(numbers)\n",
    "    result = [] \n",
    "    for value in numbers:\n",
    "        percent = 100*value /total\n",
    "        result.append(percent)\n",
    "    return result\n",
    "\n",
    "visits = [15,35,80]\n",
    "percentages = normalize(visits)\n",
    "print(percentages)\n",
    "\n",
    "assert sum(percentages) == 100.0"
   ]
  },
  {
   "cell_type": "code",
   "execution_count": 29,
   "metadata": {},
   "outputs": [
    {
     "name": "stdout",
     "output_type": "stream",
     "text": [
      "[]\n"
     ]
    }
   ],
   "source": [
    "# 코드의 확장성을 높이고, 객체 수를 증가 시킨다면, 메모리가 중요하다.(훨씬 더 많은 메모리 필요)\n",
    "# 그러므로 파일을 읽는 제너레이터를 구현 한다. \n",
    "def read_visits(data_path):\n",
    "    with open(data_path) as f:\n",
    "        for line in f: # txt 파일이지만, 'r' 옵션도 주지 않고, f.readline등의 함수도 사용하지 않는다? \n",
    "            yield int(line) # readlines랑 같은 역활?\n",
    "\n",
    "it = read_visits(\"my_numbers.txt\")\n",
    "percentages = normalize(it)\n",
    "print(percentages)"
   ]
  },
  {
   "cell_type": "markdown",
   "metadata": {},
   "source": [
    "- 아무 결과도 나오지 않는 이유는 이터레이터가 결과를 단 한번만 만들어내기 때문이다. \n",
    "- 이미 StopIterations 예외가 발생한 이터레이터나 제너레이터를 다시 이터레이션 하면 아무 결과도 얻을 수 없다. "
   ]
  },
  {
   "cell_type": "code",
   "execution_count": 30,
   "metadata": {},
   "outputs": [
    {
     "name": "stdout",
     "output_type": "stream",
     "text": [
      "[15, 35, 80]\n",
      "[]\n"
     ]
    }
   ],
   "source": [
    "it = read_visits(\"my_numbers.txt\")\n",
    "print(list(it))\n",
    "print(list(it))"
   ]
  },
  {
   "cell_type": "code",
   "execution_count": 31,
   "metadata": {},
   "outputs": [
    {
     "name": "stdout",
     "output_type": "stream",
     "text": [
      "[11.538461538461538, 26.923076923076923, 61.53846153846154]\n"
     ]
    }
   ],
   "source": [
    "# 입력 이터레이터를 방어적으로 복사하도록 만든 코드다. \n",
    "def normalize_copy(numbers):\n",
    "    numbers_copy = list(numbers)\n",
    "    total = sum(numbers_copy)\n",
    "    result = [] \n",
    "    for value in numbers_copy:\n",
    "        percent = 100 * value / total\n",
    "        result.append(percent)\n",
    "    return result\n",
    "\n",
    "it = read_visits(\"my_numbers.txt\")\n",
    "percentages = normalize_copy(it)\n",
    "print(percentages)\n",
    "assert sum(percentages) == 100.0\n",
    "\n",
    "# 단 이 방법은 메모리 문제가 그대로 있다. \n",
    "# copy하면서 리스트 길이 만큼 메모리를 잡아먹기 때문이다. \n",
    "# 제너레이터를 쓰는 이유가 반감이 되어 버린다.\n"
   ]
  },
  {
   "cell_type": "code",
   "execution_count": 32,
   "metadata": {},
   "outputs": [
    {
     "name": "stdout",
     "output_type": "stream",
     "text": [
      "[11.538461538461538, 26.923076923076923, 61.53846153846154]\n"
     ]
    }
   ],
   "source": [
    "# 이 문제를 해결하는 다른 방법으로는 호출 될 때마다 새로 이터레이터를 반환하는 함수를 받는 것이다.\n",
    "def normalize_func(get_iter):\n",
    "    total = sum(get_iter()) # 새 이터레이터? \n",
    "    result = [] \n",
    "\n",
    "    for value in get_iter(): \n",
    "        percent = 100 *value / total\n",
    "        result.append(percent)\n",
    "    \n",
    "    return result \n",
    "path = \"my_numbers.txt\"\n",
    "percentages = normalize_func(lambda : read_visits(path))\n",
    "print(percentages)\n",
    "assert sum(percentages) == 100.0\n",
    "# 잘 작동하지만, 람다 함수를 넘기는 것은 보기에 좋치 않다\n",
    "# 같은 결과를 달성하는 더 나은 방법은 이터레이터 프로토콜을 구현한 새로운 컨테이너 클래스를 제공하는 것이다. \n"
   ]
  },
  {
   "cell_type": "markdown",
   "metadata": {},
   "source": [
    "\n",
    "# 이터레이터 프로토콜\n",
    "- 이터레이터 프로토콜은 파이썬의 For루프나 그와 관련된 식들이 컨테이너타입의 내용을 방문할 때 사용하는 절차이다. \n",
    "- 파이썬에서 for x in foo 구문을 사용하면 실제로는 iter(foo)를 호출한다.\n",
    "- iter 내장함수는 foo.\\_\\_iter\\_\\_ 라는 특별 메소드를 호출한다. \n",
    "- \\_\\_iter\\_\\_메서드는 반드시 이터레이터 객체를 반환해야 한다. for 루프는 반환받은 이터레이터 객체가 데이터를 소진(StopIteration 예외)를 받을 때까지 반복적으로 이터레이터 객체에 대해 Next 내장함수를 호출한다. \n"
   ]
  },
  {
   "cell_type": "code",
   "execution_count": 33,
   "metadata": {},
   "outputs": [],
   "source": [
    "class ReadVisit: # 이터러블 컨테이너 타입 \n",
    "    def __init__(self,data_path) -> None:\n",
    "        self.data_path = data_path\n",
    "\n",
    "    def __iter__(self):\n",
    "        with open(self.data_path) as f:\n",
    "            for line in f:\n",
    "                yield int(line)\n"
   ]
  },
  {
   "cell_type": "markdown",
   "metadata": {},
   "source": [
    "- 메모리 이슈는 발생 여부가 낮아지지만, 이터레이터를 여러번 이터레이션 해야한다. "
   ]
  },
  {
   "cell_type": "code",
   "execution_count": 34,
   "metadata": {},
   "outputs": [
    {
     "name": "stdout",
     "output_type": "stream",
     "text": [
      "[11.538461538461538, 26.923076923076923, 61.53846153846154]\n"
     ]
    }
   ],
   "source": [
    "visits = ReadVisit(path)\n",
    "percentages = normalize(visits)\n",
    "print(percentages)"
   ]
  },
  {
   "cell_type": "markdown",
   "metadata": {},
   "source": [
    "- 이터레이터가 iter 내장 함수에 전달되는 경우에는 전달받은 이터레이터가 그대로 반환된다.\n",
    "- 컨테이너 타입이 iter에 전달되면 매번 새로운 이터레이터 객체가 반환된다. \n",
    "- 반복적으로 이터레이션 할 수 없는 인자인 경우에는 TypeError를 발생시켜서 인자를 거부한다. "
   ]
  },
  {
   "cell_type": "code",
   "execution_count": 35,
   "metadata": {},
   "outputs": [
    {
     "name": "stdout",
     "output_type": "stream",
     "text": [
      "[11.538461538461538, 26.923076923076923, 61.53846153846154]\n"
     ]
    },
    {
     "ename": "TypeError",
     "evalue": "",
     "output_type": "error",
     "traceback": [
      "\u001b[0;31m---------------------------------------------------------------------------\u001b[0m",
      "\u001b[0;31mTypeError\u001b[0m                                 Traceback (most recent call last)",
      "Cell \u001b[0;32mIn[35], line 15\u001b[0m\n\u001b[1;32m     12\u001b[0m pers \u001b[38;5;241m=\u001b[39m normalize_defensive(visits) \u001b[38;5;66;03m# 컨테이너 반환 \u001b[39;00m\n\u001b[1;32m     13\u001b[0m \u001b[38;5;28mprint\u001b[39m(pers)\n\u001b[0;32m---> 15\u001b[0m per_err \u001b[38;5;241m=\u001b[39m \u001b[43mnormalize_defensive\u001b[49m\u001b[43m(\u001b[49m\u001b[43mread_visits\u001b[49m\u001b[43m(\u001b[49m\u001b[43mpath\u001b[49m\u001b[43m)\u001b[49m\u001b[43m)\u001b[49m \u001b[38;5;66;03m# 이터레이터 반환\u001b[39;00m\n\u001b[1;32m     16\u001b[0m \u001b[38;5;28mprint\u001b[39m(per_err)\n",
      "Cell \u001b[0;32mIn[35], line 3\u001b[0m, in \u001b[0;36mnormalize_defensive\u001b[0;34m(numbers)\u001b[0m\n\u001b[1;32m      1\u001b[0m \u001b[38;5;28;01mdef\u001b[39;00m \u001b[38;5;21mnormalize_defensive\u001b[39m(numbers):\n\u001b[1;32m      2\u001b[0m     \u001b[38;5;28;01mif\u001b[39;00m \u001b[38;5;28miter\u001b[39m(numbers) \u001b[38;5;129;01mis\u001b[39;00m numbers: \u001b[38;5;66;03m# 이터레이터면 그대로 이터레이터가 반환되기 때문에 즇치 않다.\u001b[39;00m\n\u001b[0;32m----> 3\u001b[0m         \u001b[38;5;28;01mraise\u001b[39;00m \u001b[38;5;167;01mTypeError\u001b[39;00m\n\u001b[1;32m      5\u001b[0m     total \u001b[38;5;241m=\u001b[39m \u001b[38;5;28msum\u001b[39m(numbers)\n\u001b[1;32m      6\u001b[0m     result \u001b[38;5;241m=\u001b[39m [] \n",
      "\u001b[0;31mTypeError\u001b[0m: "
     ]
    }
   ],
   "source": [
    "def normalize_defensive(numbers):\n",
    "    if iter(numbers) is numbers: # 이터레이터면 그대로 이터레이터가 반환되기 때문에 즇치 않다.\n",
    "        raise TypeError\n",
    "    \n",
    "    total = sum(numbers)\n",
    "    result = [] \n",
    "    for value in numbers:\n",
    "        percent = 100 * value / total\n",
    "        result.append(percent)\n",
    "    return result \n",
    "\n",
    "pers = normalize_defensive(visits) # 컨테이너 반환 \n",
    "print(pers)\n",
    "\n",
    "per_err = normalize_defensive(read_visits(path)) # 이터레이터 반환\n",
    "print(per_err)\n"
   ]
  },
  {
   "cell_type": "code",
   "execution_count": null,
   "metadata": {},
   "outputs": [
    {
     "name": "stdout",
     "output_type": "stream",
     "text": [
      "[11.538461538461538, 26.923076923076923, 61.53846153846154]\n",
      "[11.538461538461538, 26.923076923076923, 61.53846153846154]\n"
     ]
    }
   ],
   "source": [
    "from collections.abc import Iterator \n",
    "\n",
    "def normalize_defensive2(numbers):\n",
    "    if isinstance(numbers,Iterator):\n",
    "        raise TypeError\n",
    "    total = sum(numbers)\n",
    "    result = [] \n",
    "    for value in numbers:\n",
    "        percent = 100 *value / total\n",
    "        result.append(percent)\n",
    "    return result\n",
    "\n",
    "\n",
    "pers = normalize_defensive2(visits) # 컨테이너 반환 \n",
    "print(pers)\n",
    "\n",
    "visit = [15,35,80]\n",
    "per_err2 = normalize_defensive2(visit)\n",
    "print(per_err2)"
   ]
  },
  {
   "cell_type": "code",
   "execution_count": null,
   "metadata": {},
   "outputs": [
    {
     "ename": "TypeError",
     "evalue": "",
     "output_type": "error",
     "traceback": [
      "\u001b[0;31m---------------------------------------------------------------------------\u001b[0m",
      "\u001b[0;31mTypeError\u001b[0m                                 Traceback (most recent call last)",
      "Cell \u001b[0;32mIn[20], line 1\u001b[0m\n\u001b[0;32m----> 1\u001b[0m per_err \u001b[38;5;241m=\u001b[39m \u001b[43mnormalize_defensive2\u001b[49m\u001b[43m(\u001b[49m\u001b[43mread_visits\u001b[49m\u001b[43m(\u001b[49m\u001b[43mpath\u001b[49m\u001b[43m)\u001b[49m\u001b[43m)\u001b[49m \u001b[38;5;66;03m# 이터레이터 반환\u001b[39;00m\n\u001b[1;32m      2\u001b[0m \u001b[38;5;28mprint\u001b[39m(per_err)\n",
      "Cell \u001b[0;32mIn[18], line 5\u001b[0m, in \u001b[0;36mnormalize_defensive2\u001b[0;34m(numbers)\u001b[0m\n\u001b[1;32m      3\u001b[0m \u001b[38;5;28;01mdef\u001b[39;00m \u001b[38;5;21mnormalize_defensive2\u001b[39m(numbers):\n\u001b[1;32m      4\u001b[0m     \u001b[38;5;28;01mif\u001b[39;00m \u001b[38;5;28misinstance\u001b[39m(numbers,Iterator):\n\u001b[0;32m----> 5\u001b[0m         \u001b[38;5;28;01mraise\u001b[39;00m \u001b[38;5;167;01mTypeError\u001b[39;00m\n\u001b[1;32m      6\u001b[0m     total \u001b[38;5;241m=\u001b[39m \u001b[38;5;28msum\u001b[39m(numbers)\n\u001b[1;32m      7\u001b[0m     result \u001b[38;5;241m=\u001b[39m [] \n",
      "\u001b[0;31mTypeError\u001b[0m: "
     ]
    }
   ],
   "source": [
    "per_err = normalize_defensive2(read_visits(path)) # 이터레이터 반환\n",
    "print(per_err)"
   ]
  },
  {
   "cell_type": "code",
   "execution_count": null,
   "metadata": {},
   "outputs": [
    {
     "ename": "TypeError",
     "evalue": "",
     "output_type": "error",
     "traceback": [
      "\u001b[0;31m---------------------------------------------------------------------------\u001b[0m",
      "\u001b[0;31mTypeError\u001b[0m                                 Traceback (most recent call last)",
      "Cell \u001b[0;32mIn[21], line 1\u001b[0m\n\u001b[0;32m----> 1\u001b[0m per_err4 \u001b[38;5;241m=\u001b[39m \u001b[43mnormalize_defensive2\u001b[49m\u001b[43m(\u001b[49m\u001b[38;5;28;43miter\u001b[39;49m\u001b[43m(\u001b[49m\u001b[43mvisit\u001b[49m\u001b[43m)\u001b[49m\u001b[43m)\u001b[49m\n\u001b[1;32m      2\u001b[0m \u001b[38;5;28mprint\u001b[39m(per_err4)\n",
      "Cell \u001b[0;32mIn[18], line 5\u001b[0m, in \u001b[0;36mnormalize_defensive2\u001b[0;34m(numbers)\u001b[0m\n\u001b[1;32m      3\u001b[0m \u001b[38;5;28;01mdef\u001b[39;00m \u001b[38;5;21mnormalize_defensive2\u001b[39m(numbers):\n\u001b[1;32m      4\u001b[0m     \u001b[38;5;28;01mif\u001b[39;00m \u001b[38;5;28misinstance\u001b[39m(numbers,Iterator):\n\u001b[0;32m----> 5\u001b[0m         \u001b[38;5;28;01mraise\u001b[39;00m \u001b[38;5;167;01mTypeError\u001b[39;00m\n\u001b[1;32m      6\u001b[0m     total \u001b[38;5;241m=\u001b[39m \u001b[38;5;28msum\u001b[39m(numbers)\n\u001b[1;32m      7\u001b[0m     result \u001b[38;5;241m=\u001b[39m [] \n",
      "\u001b[0;31mTypeError\u001b[0m: "
     ]
    }
   ],
   "source": [
    "per_err4 = normalize_defensive2(iter(visit))\n",
    "print(per_err4)"
   ]
  },
  {
   "cell_type": "markdown",
   "metadata": {},
   "source": [
    "# 리스트 컴프리헨션보다 제너레이터 식을 사용하라. \n",
    "- 각 줄에 들어 있는 문자 수를 반환한다고 하자. \n",
    "- 이를 리스트 컴프리헨션으로 하려면 파일 각 줄의 길이를 메모리에 저장해야한다. \n",
    "- 파일이 아주 크거나 절대로 끝나지 않는 네트워크 소켓이라면 리스트 컴프리헨셔을 사용하는 것은 문제가 될 수 있다. "
   ]
  },
  {
   "cell_type": "code",
   "execution_count": 37,
   "metadata": {},
   "outputs": [
    {
     "name": "stdout",
     "output_type": "stream",
     "text": [
      "[100, 57, 15, 1, 12, 75, 5, 86, 89, 10]\n",
      "<generator object <genexpr> at 0x13021f580>\n",
      "100\n",
      "57\n",
      "(15, 3.872983346207417)\n"
     ]
    }
   ],
   "source": [
    "value = [len(x) for x in open(\"my_file.txt\")]\n",
    "print(value)\n",
    "\n",
    "# 제너레이터 식을 실행해도 출력 시퀀스 전체가 실체화되지는 않는다. 대신 제너레이터 식에 들어 있는 식으로 부터 원소를 하나씩 만들어내는 이터레이터가 생성된다. \n",
    "# () 사이에 리스트 컴프리헨션과 비슷한 구문을 넣어 제너레이터 식을 만들 수 있다.\n",
    "# 제너레이터 식은 이터레이터로 즉시 평가되며, 더 이상 시퀀스 원소계산이 진행되지 않는다?? \n",
    "\n",
    "it = (len(x) for x in open(\"my_file.txt\"))\n",
    "print(it)\n",
    "print(next(it))\n",
    "print(next(it))\n",
    "\n",
    "# 제너레이터의 강력한 특징은 두 제너레이터 식을 합성할 수 있다는 점이다. \n",
    "# 다음 코드에서는 앞에서 본 제너레이터 식이 반환한 이터레이터를 다른 제너레이터 식의 입력으로 사용한다. \n",
    "\n",
    "Root = ((x,x**0.5) for x in it)\n",
    "print(next(Root))\n",
    "\n",
    "# 제너레이터를 함계 연결한 코드를 파이썬은 아주 빠르게 실행할 수 있다. \n",
    "# 아주 큰 입력 스트림에 대해 여러 기능을 합성한다면, 제너레이터 식을 선택하라. 다만 제너레이터가 반환하는 이터레이터에는 상태가 있기 때문에 \n",
    "# 이터레이터를 한 번만 사용해야 한다. "
   ]
  },
  {
   "cell_type": "code",
   "execution_count": null,
   "metadata": {},
   "outputs": [],
   "source": []
  }
 ],
 "metadata": {
  "kernelspec": {
   "display_name": "hand_on_ml",
   "language": "python",
   "name": "python3"
  },
  "language_info": {
   "codemirror_mode": {
    "name": "ipython",
    "version": 3
   },
   "file_extension": ".py",
   "mimetype": "text/x-python",
   "name": "python",
   "nbconvert_exporter": "python",
   "pygments_lexer": "ipython3",
   "version": "3.8.16"
  }
 },
 "nbformat": 4,
 "nbformat_minor": 2
}
