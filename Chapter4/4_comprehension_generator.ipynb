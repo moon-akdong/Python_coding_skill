{
 "cells": [
  {
   "cell_type": "markdown",
   "metadata": {},
   "source": [
    "Comprehension : 리스트,딕셔너리,집합 등의 타입을 간결하게 이터레이션 하면서 원소로 부터 파생되는 데이터 구조를 생성할 수 있다    \n",
    "\n",
    "Generator : 컴프리헨션 코딩 스타일을 사용하는 함수로 확장할 수 있다, 함수가 점진적으로 반환하는 값으로 이뤄지는 스트림을 만들어 준다. 이터레이터를 사용할 수 있는 곳(for 루프,별표 식 등) 이라면, 어디든 제너레이터 함수를 호출할 수 있다. - 가독성 뿐만 아니라 성능향상과 메모리 사용을 줄인다. \n",
    "\n",
    "# 컴프리헨션(Comprehension)"
   ]
  },
  {
   "cell_type": "markdown",
   "metadata": {},
   "source": [
    "### map과 filter대신 컴프리헨션을 사용하라. "
   ]
  },
  {
   "cell_type": "code",
   "execution_count": 1,
   "metadata": {},
   "outputs": [
    {
     "name": "stdout",
     "output_type": "stream",
     "text": [
      "[1, 4, 9, 16, 25, 36, 49, 64, 81, 100]\n",
      "[1, 4, 9, 16, 25, 36, 49, 64, 81, 100]\n",
      "map 함수 :  [1, 4, 9, 16, 25, 36, 49, 64, 81, 100]\n"
     ]
    }
   ],
   "source": [
    "#for 루프를 이용한 계산 \n",
    "a = [1,2,3,4,5,6,7,8,9,10]\n",
    "squares = [] \n",
    "\n",
    "for x in a:\n",
    "    squares.append(x**2)\n",
    "print(squares)\n",
    "\n",
    "# 컴프리헨션을 이용한 계산 \n",
    "sq = [x**2 for x in a]\n",
    "print(sq)\n",
    "\n",
    "# map 함수보다 가독성이 좋고, 원소도 쉽게 필터링 가능하다. \n",
    "alt = list(map(lambda x:x**2,a)) # 위와 동일한 계산 \n",
    "print(\"map 함수 : \",alt)"
   ]
  },
  {
   "cell_type": "code",
   "execution_count": 2,
   "metadata": {},
   "outputs": [
    {
     "name": "stdout",
     "output_type": "stream",
     "text": [
      "[4, 16, 36, 64, 100]\n",
      "[4, 16, 36, 64, 100]\n",
      "[4, 16, 36, 64, 100]\n"
     ]
    }
   ],
   "source": [
    "squares = []\n",
    "for x in a:\n",
    "    if x %2 ==0:\n",
    "        squares.append(x**2)\n",
    "print(squares)\n",
    "\n",
    "# 컴프리헨션에 조건 문을 넣었을 때\n",
    "even_squares = [x**2 for x in a if x %2==0]\n",
    "print(even_squares)\n",
    "\n",
    "# map\n",
    "alt = list(map(lambda x:x**2, filter(lambda x:x%2 ==0,a)))\n",
    "assert even_squares == list(alt) # 똑같은 결과 값을 얻기 위해 filter(),map()함수를 두가지를 사용 해야한다. \n",
    "# 가독성도 떨어진다. \n",
    "print(alt)\n"
   ]
  },
  {
   "cell_type": "code",
   "execution_count": 3,
   "metadata": {},
   "outputs": [
    {
     "name": "stdout",
     "output_type": "stream",
     "text": [
      "{2: 4, 4: 16, 6: 36, 8: 64, 10: 100}\n",
      "{216, 729, 27}\n",
      "{2: 4, 4: 16, 6: 36, 8: 64, 10: 100}\n",
      "{216, 729, 27}\n"
     ]
    }
   ],
   "source": [
    "# 딕셔너리 컴프리헨션과 집합 컴프리헤션도 있다. \n",
    "even_squares_dict = {x : x**2 for x in a if x %2 ==0}\n",
    "threes_cubed_set = {x**3 for x in a if x %3==0}\n",
    "\n",
    "print(even_squares_dict)\n",
    "print(threes_cubed_set)\n",
    "\n",
    "alt_dict = dict(map(lambda x:(x,x**2),filter(lambda x:x%2==0,a)))\n",
    "print(alt_dict)\n",
    "alt_set = set(map(lambda x:x**3,filter(lambda x: x%3==0,a)))\n",
    "print(alt_set)"
   ]
  },
  {
   "cell_type": "markdown",
   "metadata": {},
   "source": [
    "### 컴프리헨션 내부에 제어 하위 식을 세 개 이상 사용하지 말아라.\n"
   ]
  },
  {
   "cell_type": "code",
   "execution_count": 4,
   "metadata": {},
   "outputs": [
    {
     "name": "stdout",
     "output_type": "stream",
     "text": [
      "[1, 2, 3, 4, 5, 6, 7, 8, 9]\n",
      "[[1, 4, 9], [16, 25, 36], [49, 64, 81]]\n"
     ]
    }
   ],
   "source": [
    "# 2단계의 하위 식 \n",
    "matrix = [[1,2,3],[4,5,6],[7,8,9]]\n",
    "flat = [x for row in matrix for x in row]\n",
    "print(flat)\n",
    "\n",
    "squared = [[x**2 for x in row] for row in matrix]\n",
    "print(squared)"
   ]
  },
  {
   "cell_type": "code",
   "execution_count": 5,
   "metadata": {},
   "outputs": [
    {
     "name": "stdout",
     "output_type": "stream",
     "text": [
      "[1, 2, 3, 4, 5, 6, 6, 5, 4, 3, 2, 1]\n",
      "[1, 2, 3, 4, 5, 6, 6, 5, 4, 3, 2, 1]\n"
     ]
    }
   ],
   "source": [
    "# 3단계의 하위 식 \n",
    "my_list = [[[1,2,3],[4,5,6]],[[6,5,4],[3,2,1]]]\n",
    "\n",
    "flat = [x for sublist1 in my_list for sublist2 in sublist1 for x in sublist2]\n",
    "print(flat)\n",
    "# 3단계 하위 식에서는 정식대로 쓰는 것이 가독성이 좀 더 높다. \n",
    "flat = [] \n",
    "for sublist in my_list:\n",
    "    for sublist2 in sublist:\n",
    "        for x in sublist2:\n",
    "            flat.append(x)\n",
    "print(flat)"
   ]
  },
  {
   "cell_type": "code",
   "execution_count": 6,
   "metadata": {},
   "outputs": [
    {
     "name": "stdout",
     "output_type": "stream",
     "text": [
      "[6, 8, 10]\n",
      "[6, 8, 10]\n"
     ]
    }
   ],
   "source": [
    "# 컴프리헨션은 여러 if 조건도 허용한다. \n",
    "# 여러 조건을 같은 수준의 루프레 사용하면 암시적으로 and 식을 의미한다. \n",
    "# 4보다 큰 짝수만 남기고 싶다고 하자. \n",
    "a = [1,2,3,4,5,6,7,8,9,10]\n",
    "b = [x for x in a if x> 4 if x%2==0]\n",
    "c = [x for x in a if x > 4 and x%2==0]\n",
    "\n",
    "print(b)\n",
    "print(c)"
   ]
  },
  {
   "cell_type": "code",
   "execution_count": 7,
   "metadata": {},
   "outputs": [
    {
     "name": "stdout",
     "output_type": "stream",
     "text": [
      "[[6], [9]]\n"
     ]
    }
   ],
   "source": [
    "# 조건문이 섞여도 3단계 깊이까지 늘어나면 컴프리헨션은 지양해야한다. \n",
    "# 가독성이 매우 떨어지기 시작한다. \n",
    "filtered = [[x for x in row if x%3 ==0] for row in matrix if sum(row)>=10]\n",
    "print(filtered)"
   ]
  },
  {
   "cell_type": "markdown",
   "metadata": {},
   "source": [
    "### 대입식을 사용해 컴프리헨션 안에서 반복작업을 피하라.\n",
    "- 여기서 대입식이란 왈러스 연산자를 이야기 하는 것이다."
   ]
  },
  {
   "cell_type": "code",
   "execution_count": 8,
   "metadata": {},
   "outputs": [
    {
     "name": "stdout",
     "output_type": "stream",
     "text": [
      "{'와셔': 3}\n"
     ]
    }
   ],
   "source": [
    "stock = {\n",
    "    '못' : 125,\n",
    "    '나사못':2,\n",
    "    '나비너트':3,\n",
    "    '와셔':24\n",
    "}\n",
    "\n",
    "order = [\"나사못\",'나비너트','와셔',\"궁금\"]\n",
    "def get_batches(count,size):\n",
    "    return count // size\n",
    "# else 일때, 즉 if 문 아래가 0이 나올때 결과물 보기 위해 \n",
    "found = {name:get_batches(stock.get(name,0),8)\n",
    "         for name in order\n",
    "         if get_batches(stock.get(name,0),8)}\n",
    "\n",
    "print(found) # else 를 따로 입력하지 않으면, pass 처리한다. \n",
    "# '궁금'은 key값에도 없지만.get()함수를 씀으로 오류 출력이 아닌 0이 나옴 "
   ]
  },
  {
   "cell_type": "code",
   "execution_count": 9,
   "metadata": {},
   "outputs": [
    {
     "name": "stdout",
     "output_type": "stream",
     "text": [
      "{'나사못': 4, '나비너트': 1}\n",
      "{'나사못': 4, '나비너트': 1}\n",
      "예상 {'나사못': 4, '나비너트': 1}\n",
      "실제 {'나사못': 8, '나비너트': 2}\n"
     ]
    }
   ],
   "source": [
    "# 8개 이상이 최소주문 수량이고, 그걸 확인하는 코드 \n",
    "stock = {\n",
    "    '못' : 125,\n",
    "    '나사못':35,\n",
    "    '나비너트':8,\n",
    "    '와셔':24\n",
    "}\n",
    "\n",
    "order = ['나사못','나비너트','클립']\n",
    "\n",
    "def get_batches(count,size):\n",
    "    return count // size\n",
    "\n",
    "result = {}\n",
    "for name in order:\n",
    "    count = stock.get(name,0)\n",
    "    batches = get_batches(count,8)\n",
    "    if batches:\n",
    "        result[name] = batches\n",
    "\n",
    "print(result)\n",
    "\n",
    "# 위와 동일, 딕셔너리 컴프리헨션을 사용\n",
    "# 앞에 코드 보다 짧지만, 같은 식을 두 번 사용\n",
    "found = {name:get_batches(stock.get(name,0),8)\n",
    "         for name in order\n",
    "         if get_batches(stock.get(name,0),8)}\n",
    "\n",
    "print(found)\n",
    "\n",
    "\n",
    "\n",
    "# 두식을 똑같이 바꿔야 하지만, 아래와 같이 실수하면 값이 달라질 수 있다. \n",
    "# 가능성 제시 \n",
    "has_bug = {name:get_batches(stock.get(name,0),4)\n",
    "           for name in order\n",
    "           if get_batches(stock.get(name,0),8)}\n",
    "print(\"예상\",found)\n",
    "print(\"실제\",has_bug)\n"
   ]
  },
  {
   "cell_type": "markdown",
   "metadata": {},
   "source": [
    "#### 왈러스 연산자(:=)"
   ]
  },
  {
   "cell_type": "code",
   "execution_count": 10,
   "metadata": {},
   "outputs": [
    {
     "name": "stdout",
     "output_type": "stream",
     "text": [
      "{'나사못': 4, '나비너트': 1}\n",
      "raise NameError\n",
      "{'못': 12, '나사못': 3, '와셔': 2}\n"
     ]
    }
   ],
   "source": [
    "# 위와 같은 반복을 피하기 위해 파이썬 3.8부터 도입된 왈러스 연산자를 사용하는 것이다. \n",
    "found = {name : batches for name in order if (batches := get_batches(stock.get(name,0),8))}\n",
    "print(found)\n",
    "# 불필요한 반복과 왈러스 연산자를 안다면 가독성도 올라간다. \n",
    "\n",
    "# 단, 컴프리헨션이 평가되는 순서 때문에 실행 시점에 오류가 발생할 수 있다. \n",
    "try:\n",
    "    result = {name: (tenth:=count//10) for name,count in stock.items() if tenth >0} # tenth를 찾을 수 없다.\n",
    "    print(result)\n",
    "except:\n",
    "    print(\"raise NameError\")\n",
    "\n",
    "# 순서만 다시 지정하면 가능하다. - 컴프리헨션은 뒤에가 먼저\n",
    "result = {name : tenth for name,count in stock.items()\n",
    "          if (tenth:=count//10)>0}\n",
    "print(result)"
   ]
  },
  {
   "cell_type": "markdown",
   "metadata": {},
   "source": [
    "- 단 for 루프에서 변수가 누출되듯 왈러스 연산자도 조건부분이 없다면 변수 누출되는데 이 점을 주의해야한다. \n",
    "- 왠만하면 루프 변수를 누출하지 않는 편이 좋다. \n"
   ]
  },
  {
   "cell_type": "code",
   "execution_count": 11,
   "metadata": {},
   "outputs": [
    {
     "name": "stdout",
     "output_type": "stream",
     "text": [
      "[125, 35, 8, 24]의 마지막 원소는 24이다.\n",
      "[62, 17, 4, 12]의 마지막 원소는 12\n",
      "[125, 35, 8, 24]\n",
      "0\n",
      "12\n"
     ]
    }
   ],
   "source": [
    "for count in stock.values():\n",
    "    pass \n",
    "print(f\"{list(stock.values())}의 마지막 원소는 {count}이다.\") # for 문의 변수 누출\n",
    "\n",
    "# 왈러스 연산자 사용으로 인한 컴프리헨션 변수 누출 \n",
    "half = [(last:=count //2) for count in stock.values()]\n",
    "print(f\"{half}의 마지막 원소는 {last}\")\n",
    "\n",
    "count=0\n",
    "last = 0\n",
    "\n",
    "half = [count for count in stock.values() if (last:=count//2)]\n",
    "print(half)\n",
    "print(count) # 컴프리헨션 자체는 변수 누출 안됨 \n",
    "try:\n",
    "    print(last)\n",
    "except:\n",
    "    print(\"변수 누출 안됨!!\")\n"
   ]
  },
  {
   "cell_type": "code",
   "execution_count": 12,
   "metadata": {},
   "outputs": [
    {
     "name": "stdout",
     "output_type": "stream",
     "text": [
      "{'못': 12, '나사못': 3, '와셔': 2}\n",
      "변수 누출: 2\n",
      "클립\n",
      "0\n"
     ]
    }
   ],
   "source": [
    "stock = {\n",
    "    '못' : 125,\n",
    "    '나사못':35,\n",
    "    '나비너트':8,\n",
    "    '와셔':24\n",
    "}\n",
    "result = {name : tenth for name,count in stock.items()\n",
    "          if (tenth:=count//10)>0}\n",
    "print(result)\n",
    "print(\"변수 누출:\",tenth) # 왈러스는 누출이 된다. \n",
    "try:\n",
    "    print(name)\n",
    "except:\n",
    "    print(\"name 변수 누출 X\")\n",
    "try:\n",
    "    print(count)\n",
    "except:\n",
    "    print(\"count 변수 누출 X\")\n"
   ]
  },
  {
   "cell_type": "code",
   "execution_count": 13,
   "metadata": {},
   "outputs": [
    {
     "name": "stdout",
     "output_type": "stream",
     "text": [
      "[62, 17, 4, 12]\n",
      "0\n"
     ]
    }
   ],
   "source": [
    "# 단 컴프리헨션은 변수 누출이 안됨 \n",
    "half = [count//2 for count in stock.values()]\n",
    "print(half)\n",
    "try:\n",
    "    print(count)\n",
    "except:\n",
    "    print(\"변수 누출 안됨!!\")"
   ]
  },
  {
   "cell_type": "code",
   "execution_count": 14,
   "metadata": {},
   "outputs": [
    {
     "name": "stdout",
     "output_type": "stream",
     "text": [
      "<generator object <genexpr> at 0x106688190>\n",
      "('나사못', 4)\n",
      "('나비너트', 1)\n"
     ]
    }
   ],
   "source": [
    "# 딕셔너리 인스턴스 대신 제품 이름과 현재 재고 수량 쌍으로 이뤄진 이터레이터를 만든다. \n",
    "found = ((name,batches) for name in order\n",
    "         if (batches:=get_batches(stock.get(name,0),8)))\n",
    "\n",
    "print(found) # 진짜 제너레이터네?? \n",
    "print(next(found))\n",
    "print(next(found))\n"
   ]
  },
  {
   "cell_type": "markdown",
   "metadata": {},
   "source": [
    "- 또하나의 차이점은 for문의 index_words는 모든 결과값을 저장한다. \n",
    "- 제너레이터 버전으로 만들면 사용하는 메모리 크기를 어느정도 제한할 수 있다. -> 입력 길이가 아무리 길어도 쉽게 처리가 가능하다. \n"
   ]
  },
  {
   "cell_type": "code",
   "execution_count": 20,
   "metadata": {},
   "outputs": [
    {
     "name": "stdout",
     "output_type": "stream",
     "text": [
      "[0, 8, 18, 23, 28, 38]\n"
     ]
    }
   ],
   "source": [
    "import itertools\n",
    "def index_file(handle):\n",
    "    offset = 0\n",
    "    for line in handle:\n",
    "        if line:\n",
    "            yield offset\n",
    "        for letter in line:\n",
    "            offset +=1\n",
    "            if letter == \" \":\n",
    "                yield offset\n",
    "\n",
    "# 이 함수의 작업 메모리는 입력 중 가장 긴 줄의 길이로 제한 된다. \n",
    "# 제너레이터를 정의할 때 한 가지 주의함 점이 있다.\n",
    "#제너레이터가 반환하는 이터레이터에 상태가 있기에 호출하는 쪽에서 재사용이 불가능 하다\n",
    "with open(\"address.txt\",\"r\",encoding=\"utf-8\") as f:\n",
    "    it = index_file(f)\n",
    "    results = itertools.islice(it,0,10)\n",
    "    print(list(results))\n"
   ]
  },
  {
   "cell_type": "code",
   "execution_count": null,
   "metadata": {},
   "outputs": [],
   "source": []
  }
 ],
 "metadata": {
  "kernelspec": {
   "display_name": "apple",
   "language": "python",
   "name": "python3"
  },
  "language_info": {
   "codemirror_mode": {
    "name": "ipython",
    "version": 3
   },
   "file_extension": ".py",
   "mimetype": "text/x-python",
   "name": "python",
   "nbconvert_exporter": "python",
   "pygments_lexer": "ipython3",
   "version": "3.8.16"
  }
 },
 "nbformat": 4,
 "nbformat_minor": 2
}
